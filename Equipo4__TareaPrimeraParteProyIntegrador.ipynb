{
  "nbformat": 4,
  "nbformat_minor": 0,
  "metadata": {
    "colab": {
      "name": "Equipo4_ TareaPrimeraParteProyIntegrador.ipynb",
      "provenance": [],
      "collapsed_sections": [],
      "include_colab_link": true
    },
    "kernelspec": {
      "name": "python3",
      "display_name": "Python 3"
    }
  },
  "cells": [
    {
      "cell_type": "markdown",
      "metadata": {
        "id": "view-in-github",
        "colab_type": "text"
      },
      "source": [
        "<a href=\"https://colab.research.google.com/github/DiegoDeLaCruzA/CLASE/blob/master/Equipo4__TareaPrimeraParteProyIntegrador.ipynb\" target=\"_parent\"><img src=\"https://colab.research.google.com/assets/colab-badge.svg\" alt=\"Open In Colab\"/></a>"
      ]
    },
    {
      "cell_type": "code",
      "metadata": {
        "colab": {
          "base_uri": "https://localhost:8080/",
          "height": 436
        },
        "id": "5_XNxgI33wRJ",
        "outputId": "8dc02118-de1e-4c68-bc6a-198be05bd0e9"
      },
      "source": [
        "import numpy as np\n",
        "import pandas as pd\n",
        "url = 'https://raw.githubusercontent.com/DVidana/ESP/master/dataSet_covid19_2.csv'\n",
        "covid = pd.read_csv(url)\n",
        "covid\n",
        "\n",
        "filename = 'dataSet_covid19_2.csv'\n",
        "names = ['Pob', '¿Mas del 35% tiene enfermedades cronicas?', '% pob con mas de 60 ', '# Ind con SS', 'Estrato Social', '% Individuos con malos habitos de higiene', 'Hombres', 'Mujeres', '% Ind que no guardan distancia', '% de escépticos', 'Infectados en 14 dias'] \n",
        "df_covid = pd.read_csv(url, names=names)\n",
        "df_covid"
      ],
      "execution_count": 2,
      "outputs": [
        {
          "output_type": "execute_result",
          "data": {
            "text/html": [
              "<div>\n",
              "<style scoped>\n",
              "    .dataframe tbody tr th:only-of-type {\n",
              "        vertical-align: middle;\n",
              "    }\n",
              "\n",
              "    .dataframe tbody tr th {\n",
              "        vertical-align: top;\n",
              "    }\n",
              "\n",
              "    .dataframe thead th {\n",
              "        text-align: right;\n",
              "    }\n",
              "</style>\n",
              "<table border=\"1\" class=\"dataframe\">\n",
              "  <thead>\n",
              "    <tr style=\"text-align: right;\">\n",
              "      <th></th>\n",
              "      <th>Pob</th>\n",
              "      <th>¿Mas del 35% tiene enfermedades cronicas?</th>\n",
              "      <th>% pob con mas de 60</th>\n",
              "      <th># Ind con SS</th>\n",
              "      <th>Estrato Social</th>\n",
              "      <th>% Individuos con malos habitos de higiene</th>\n",
              "      <th>Hombres</th>\n",
              "      <th>Mujeres</th>\n",
              "      <th>% Ind que no guardan distancia</th>\n",
              "      <th>% de escépticos</th>\n",
              "      <th>Infectados en 14 dias</th>\n",
              "    </tr>\n",
              "  </thead>\n",
              "  <tbody>\n",
              "    <tr>\n",
              "      <th>0</th>\n",
              "      <td>91</td>\n",
              "      <td>no</td>\n",
              "      <td>18.681319</td>\n",
              "      <td>55</td>\n",
              "      <td>C</td>\n",
              "      <td>12.087912</td>\n",
              "      <td>43</td>\n",
              "      <td>48</td>\n",
              "      <td>7.692308</td>\n",
              "      <td>19.780220</td>\n",
              "      <td>19</td>\n",
              "    </tr>\n",
              "    <tr>\n",
              "      <th>1</th>\n",
              "      <td>39</td>\n",
              "      <td>no</td>\n",
              "      <td>20.512821</td>\n",
              "      <td>5</td>\n",
              "      <td>B</td>\n",
              "      <td>25.641026</td>\n",
              "      <td>19</td>\n",
              "      <td>20</td>\n",
              "      <td>12.820513</td>\n",
              "      <td>43.589744</td>\n",
              "      <td>7</td>\n",
              "    </tr>\n",
              "    <tr>\n",
              "      <th>2</th>\n",
              "      <td>91</td>\n",
              "      <td>no</td>\n",
              "      <td>13.186813</td>\n",
              "      <td>76</td>\n",
              "      <td>B</td>\n",
              "      <td>19.780220</td>\n",
              "      <td>0</td>\n",
              "      <td>91</td>\n",
              "      <td>8.791209</td>\n",
              "      <td>29.670330</td>\n",
              "      <td>18</td>\n",
              "    </tr>\n",
              "    <tr>\n",
              "      <th>3</th>\n",
              "      <td>56</td>\n",
              "      <td>no</td>\n",
              "      <td>10.714286</td>\n",
              "      <td>10</td>\n",
              "      <td>B</td>\n",
              "      <td>25.000000</td>\n",
              "      <td>31</td>\n",
              "      <td>25</td>\n",
              "      <td>5.357143</td>\n",
              "      <td>21.428571</td>\n",
              "      <td>19</td>\n",
              "    </tr>\n",
              "    <tr>\n",
              "      <th>4</th>\n",
              "      <td>279</td>\n",
              "      <td>no</td>\n",
              "      <td>18.637993</td>\n",
              "      <td>189</td>\n",
              "      <td>C</td>\n",
              "      <td>20.788530</td>\n",
              "      <td>149</td>\n",
              "      <td>130</td>\n",
              "      <td>14.695341</td>\n",
              "      <td>24.372760</td>\n",
              "      <td>74</td>\n",
              "    </tr>\n",
              "    <tr>\n",
              "      <th>...</th>\n",
              "      <td>...</td>\n",
              "      <td>...</td>\n",
              "      <td>...</td>\n",
              "      <td>...</td>\n",
              "      <td>...</td>\n",
              "      <td>...</td>\n",
              "      <td>...</td>\n",
              "      <td>...</td>\n",
              "      <td>...</td>\n",
              "      <td>...</td>\n",
              "      <td>...</td>\n",
              "    </tr>\n",
              "    <tr>\n",
              "      <th>195</th>\n",
              "      <td>31</td>\n",
              "      <td>no</td>\n",
              "      <td>12.903226</td>\n",
              "      <td>12</td>\n",
              "      <td>C</td>\n",
              "      <td>22.580645</td>\n",
              "      <td>19</td>\n",
              "      <td>12</td>\n",
              "      <td>25.806452</td>\n",
              "      <td>3.225806</td>\n",
              "      <td>3</td>\n",
              "    </tr>\n",
              "    <tr>\n",
              "      <th>196</th>\n",
              "      <td>83</td>\n",
              "      <td>no</td>\n",
              "      <td>16.867470</td>\n",
              "      <td>51</td>\n",
              "      <td>A</td>\n",
              "      <td>21.686747</td>\n",
              "      <td>42</td>\n",
              "      <td>41</td>\n",
              "      <td>10.843373</td>\n",
              "      <td>27.710843</td>\n",
              "      <td>12</td>\n",
              "    </tr>\n",
              "    <tr>\n",
              "      <th>197</th>\n",
              "      <td>91</td>\n",
              "      <td>si</td>\n",
              "      <td>20.879121</td>\n",
              "      <td>44</td>\n",
              "      <td>C</td>\n",
              "      <td>19.780220</td>\n",
              "      <td>47</td>\n",
              "      <td>44</td>\n",
              "      <td>14.285714</td>\n",
              "      <td>23.076923</td>\n",
              "      <td>16</td>\n",
              "    </tr>\n",
              "    <tr>\n",
              "      <th>198</th>\n",
              "      <td>82</td>\n",
              "      <td>no</td>\n",
              "      <td>14.634146</td>\n",
              "      <td>6</td>\n",
              "      <td>C</td>\n",
              "      <td>28.048780</td>\n",
              "      <td>43</td>\n",
              "      <td>39</td>\n",
              "      <td>14.634146</td>\n",
              "      <td>18.292683</td>\n",
              "      <td>23</td>\n",
              "    </tr>\n",
              "    <tr>\n",
              "      <th>199</th>\n",
              "      <td>168</td>\n",
              "      <td>si</td>\n",
              "      <td>16.666667</td>\n",
              "      <td>110</td>\n",
              "      <td>C</td>\n",
              "      <td>20.833333</td>\n",
              "      <td>78</td>\n",
              "      <td>90</td>\n",
              "      <td>13.690476</td>\n",
              "      <td>27.976190</td>\n",
              "      <td>33</td>\n",
              "    </tr>\n",
              "  </tbody>\n",
              "</table>\n",
              "<p>200 rows × 11 columns</p>\n",
              "</div>"
            ],
            "text/plain": [
              "     Pob  ... Infectados en 14 dias\n",
              "0     91  ...                    19\n",
              "1     39  ...                     7\n",
              "2     91  ...                    18\n",
              "3     56  ...                    19\n",
              "4    279  ...                    74\n",
              "..   ...  ...                   ...\n",
              "195   31  ...                     3\n",
              "196   83  ...                    12\n",
              "197   91  ...                    16\n",
              "198   82  ...                    23\n",
              "199  168  ...                    33\n",
              "\n",
              "[200 rows x 11 columns]"
            ]
          },
          "metadata": {
            "tags": []
          },
          "execution_count": 2
        }
      ]
    },
    {
      "cell_type": "code",
      "metadata": {
        "colab": {
          "base_uri": "https://localhost:8080/",
          "height": 314
        },
        "id": "MpJX09z287S-",
        "outputId": "8be7df28-e09b-4618-f5ac-8fd827ea673b"
      },
      "source": [
        "df_covid.describe()\n"
      ],
      "execution_count": 25,
      "outputs": [
        {
          "output_type": "execute_result",
          "data": {
            "text/html": [
              "<div>\n",
              "<style scoped>\n",
              "    .dataframe tbody tr th:only-of-type {\n",
              "        vertical-align: middle;\n",
              "    }\n",
              "\n",
              "    .dataframe tbody tr th {\n",
              "        vertical-align: top;\n",
              "    }\n",
              "\n",
              "    .dataframe thead th {\n",
              "        text-align: right;\n",
              "    }\n",
              "</style>\n",
              "<table border=\"1\" class=\"dataframe\">\n",
              "  <thead>\n",
              "    <tr style=\"text-align: right;\">\n",
              "      <th></th>\n",
              "      <th>Pob</th>\n",
              "      <th>% pob con mas de 60</th>\n",
              "      <th># Ind con SS</th>\n",
              "      <th>% Individuos con malos habitos de higiene</th>\n",
              "      <th>Hombres</th>\n",
              "      <th>Mujeres</th>\n",
              "      <th>% Ind que no guardan distancia</th>\n",
              "      <th>% de escépticos</th>\n",
              "      <th>Infectados en 14 dias</th>\n",
              "    </tr>\n",
              "  </thead>\n",
              "  <tbody>\n",
              "    <tr>\n",
              "      <th>count</th>\n",
              "      <td>200.000000</td>\n",
              "      <td>200.000000</td>\n",
              "      <td>200.000000</td>\n",
              "      <td>193.000000</td>\n",
              "      <td>200.000000</td>\n",
              "      <td>200.000000</td>\n",
              "      <td>198.000000</td>\n",
              "      <td>199.000000</td>\n",
              "      <td>200.000000</td>\n",
              "    </tr>\n",
              "    <tr>\n",
              "      <th>mean</th>\n",
              "      <td>162.345000</td>\n",
              "      <td>16.278359</td>\n",
              "      <td>82.575000</td>\n",
              "      <td>20.095333</td>\n",
              "      <td>79.160000</td>\n",
              "      <td>83.185000</td>\n",
              "      <td>12.444563</td>\n",
              "      <td>25.179584</td>\n",
              "      <td>38.205000</td>\n",
              "    </tr>\n",
              "    <tr>\n",
              "      <th>std</th>\n",
              "      <td>83.313876</td>\n",
              "      <td>3.674976</td>\n",
              "      <td>70.752697</td>\n",
              "      <td>3.672456</td>\n",
              "      <td>42.613542</td>\n",
              "      <td>47.954865</td>\n",
              "      <td>3.306613</td>\n",
              "      <td>4.548315</td>\n",
              "      <td>20.172447</td>\n",
              "    </tr>\n",
              "    <tr>\n",
              "      <th>min</th>\n",
              "      <td>20.000000</td>\n",
              "      <td>6.521739</td>\n",
              "      <td>1.000000</td>\n",
              "      <td>10.000000</td>\n",
              "      <td>0.000000</td>\n",
              "      <td>0.000000</td>\n",
              "      <td>5.000000</td>\n",
              "      <td>3.225806</td>\n",
              "      <td>2.000000</td>\n",
              "    </tr>\n",
              "    <tr>\n",
              "      <th>25%</th>\n",
              "      <td>84.750000</td>\n",
              "      <td>13.966480</td>\n",
              "      <td>30.250000</td>\n",
              "      <td>17.791411</td>\n",
              "      <td>41.000000</td>\n",
              "      <td>41.000000</td>\n",
              "      <td>10.723886</td>\n",
              "      <td>23.188406</td>\n",
              "      <td>20.000000</td>\n",
              "    </tr>\n",
              "    <tr>\n",
              "      <th>50%</th>\n",
              "      <td>163.500000</td>\n",
              "      <td>15.870087</td>\n",
              "      <td>60.000000</td>\n",
              "      <td>20.212766</td>\n",
              "      <td>79.000000</td>\n",
              "      <td>84.000000</td>\n",
              "      <td>12.198838</td>\n",
              "      <td>25.423729</td>\n",
              "      <td>37.000000</td>\n",
              "    </tr>\n",
              "    <tr>\n",
              "      <th>75%</th>\n",
              "      <td>244.250000</td>\n",
              "      <td>18.279570</td>\n",
              "      <td>115.750000</td>\n",
              "      <td>22.000000</td>\n",
              "      <td>118.000000</td>\n",
              "      <td>124.000000</td>\n",
              "      <td>14.111725</td>\n",
              "      <td>27.593103</td>\n",
              "      <td>56.000000</td>\n",
              "    </tr>\n",
              "    <tr>\n",
              "      <th>max</th>\n",
              "      <td>300.000000</td>\n",
              "      <td>28.787879</td>\n",
              "      <td>283.000000</td>\n",
              "      <td>42.857143</td>\n",
              "      <td>165.000000</td>\n",
              "      <td>289.000000</td>\n",
              "      <td>28.571429</td>\n",
              "      <td>45.454545</td>\n",
              "      <td>81.000000</td>\n",
              "    </tr>\n",
              "  </tbody>\n",
              "</table>\n",
              "</div>"
            ],
            "text/plain": [
              "              Pob  % pob con mas de 60   ...  % de escépticos  Infectados en 14 dias\n",
              "count  200.000000            200.000000  ...       199.000000             200.000000\n",
              "mean   162.345000             16.278359  ...        25.179584              38.205000\n",
              "std     83.313876              3.674976  ...         4.548315              20.172447\n",
              "min     20.000000              6.521739  ...         3.225806               2.000000\n",
              "25%     84.750000             13.966480  ...        23.188406              20.000000\n",
              "50%    163.500000             15.870087  ...        25.423729              37.000000\n",
              "75%    244.250000             18.279570  ...        27.593103              56.000000\n",
              "max    300.000000             28.787879  ...        45.454545              81.000000\n",
              "\n",
              "[8 rows x 9 columns]"
            ]
          },
          "metadata": {
            "tags": []
          },
          "execution_count": 25
        }
      ]
    },
    {
      "cell_type": "code",
      "metadata": {
        "colab": {
          "base_uri": "https://localhost:8080/",
          "height": 1000
        },
        "id": "9LtVl93i9eru",
        "outputId": "52314e8f-3b73-49ef-8447-4dccbb8846c5"
      },
      "source": [
        "import matplotlib.pyplot as ptl\n",
        "figura = ptl.figure(figsize=(20,20))\n",
        "ax=figura.gca()\n",
        "df_covid.hist(ax=ax)\n",
        "ptl.show"
      ],
      "execution_count": 4,
      "outputs": [
        {
          "output_type": "stream",
          "text": [
            "/usr/local/lib/python3.6/dist-packages/ipykernel_launcher.py:4: UserWarning: To output multiple subplots, the figure containing the passed axes is being cleared\n",
            "  after removing the cwd from sys.path.\n"
          ],
          "name": "stderr"
        },
        {
          "output_type": "execute_result",
          "data": {
            "text/plain": [
              "<function matplotlib.pyplot.show>"
            ]
          },
          "metadata": {
            "tags": []
          },
          "execution_count": 4
        },
        {
          "output_type": "display_data",
          "data": {
            "image/png": "[encoded data removed]",
            "text/plain": [
              "<Figure size 1440x1440 with 9 Axes>"
            ]
          },
          "metadata": {
            "tags": [],
            "needs_background": "light"
          }
        }
      ]
    },
    {
      "cell_type": "code",
      "metadata": {
        "colab": {
          "base_uri": "https://localhost:8080/"
        },
        "id": "pqZlN3W2_B-d",
        "outputId": "b0ace84e-9cfb-4cab-bdcd-ac4997652d24"
      },
      "source": [
        "df_covid.count()"
      ],
      "execution_count": null,
      "outputs": [
        {
          "output_type": "execute_result",
          "data": {
            "text/plain": [
              "Pob                                          200\n",
              "¿Mas del 35% tiene enfermedades cronicas?    198\n",
              "% pob con mas de 60                          200\n",
              "# Ind con SS                                 200\n",
              "Estrato Social                               200\n",
              "% Individuos con malos habitos de higiene    193\n",
              "Hombres                                      200\n",
              "Mujeres                                      200\n",
              "% Ind que no guardan distancia               198\n",
              "% de escépticos                              199\n",
              "Infectados en 14 dias                        200\n",
              "dtype: int64"
            ]
          },
          "metadata": {
            "tags": []
          },
          "execution_count": 8
        }
      ]
    },
    {
      "cell_type": "code",
      "metadata": {
        "id": "4W0qwmQV-42j"
      },
      "source": [
        "df_covid_prueba=df_covid\n",
        "df_covid_prueba=df_covid_prueba.fillna(value=\"no\")\n",
        "df_covid_prueba=df_covid_prueba.fillna(value=np.mean)\n"
      ],
      "execution_count": 27,
      "outputs": []
    },
    {
      "cell_type": "code",
      "metadata": {
        "colab": {
          "base_uri": "https://localhost:8080/"
        },
        "id": "on2mggZLKlOj",
        "outputId": "8b77fc0f-5dbc-4768-d1bf-dc510376ce18"
      },
      "source": [
        "df_covid_prueba.count()"
      ],
      "execution_count": 15,
      "outputs": [
        {
          "output_type": "execute_result",
          "data": {
            "text/plain": [
              "Pob                                          200\n",
              "¿Mas del 35% tiene enfermedades cronicas?    200\n",
              "% pob con mas de 60                          200\n",
              "# Ind con SS                                 200\n",
              "Estrato Social                               200\n",
              "% Individuos con malos habitos de higiene    200\n",
              "Hombres                                      200\n",
              "Mujeres                                      200\n",
              "% Ind que no guardan distancia               200\n",
              "% de escépticos                              200\n",
              "Infectados en 14 dias                        200\n",
              "dtype: int64"
            ]
          },
          "metadata": {
            "tags": []
          },
          "execution_count": 15
        }
      ]
    },
    {
      "cell_type": "code",
      "metadata": {
        "id": "I_c87mZqZrIj"
      },
      "source": [
        ""
      ],
      "execution_count": null,
      "outputs": []
    }
  ]
}